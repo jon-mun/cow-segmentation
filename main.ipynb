{
 "cells": [
  {
   "attachments": {},
   "cell_type": "markdown",
   "metadata": {},
   "source": [
    "# Metode Numerik - Final Project\n",
    "\n",
    "**Kenali sapinya**\n",
    "\n",
    "Anda memiliki 2 jenis gambar yaitu sapi tanpa background dan sapi dengan background.\n",
    "Buatlah model pola sapi dengan gambar tanpa background. Kemudian gunakan pola tersebut untuk mendeteksi sapi dengan background. Gunakan interpolasi dan finite difference atau metode lain di dalam materi metode numerik.\n",
    "\n",
    "Note:\n",
    "1. Tidak boleh menggunakan library kecuali untuk membaca image\n",
    "2. Algoritma Anda rancang sendiri dan implementasikan sendiri from scratch\n",
    "3. Satu kelompok terdiri dari 4 orang.\n",
    "\n",
    "--- "
   ]
  },
  {
   "attachments": {},
   "cell_type": "markdown",
   "metadata": {},
   "source": [
    "## Idea\n",
    "\n",
    "Finite Difference -> edge detection\n",
    "\n",
    "Interpolation -> resize image\n",
    "\n",
    "Linear Regression or Polinomial Regression w/ threshold -> classifier"
   ]
  },
  {
   "attachments": {},
   "cell_type": "markdown",
   "metadata": {},
   "source": [
    "## Data\n",
    "---"
   ]
  },
  {
   "cell_type": "code",
   "execution_count": 1,
   "metadata": {},
   "outputs": [],
   "source": [
    "import matplotlib.pyplot as plt\n",
    "import os"
   ]
  },
  {
   "cell_type": "code",
   "execution_count": null,
   "metadata": {},
   "outputs": [],
   "source": [
    "bg = os.listdir('./data/bg')\n",
    "no_bg = os.listdir('./data/no_bg/img')\n",
    "\n",
    "fig, ax = plt.subplots(nrows=1, ncols=2, figsize=(10, 5))\n",
    "fig.suptitle('Background')\n",
    "for i, img_file in enumerate(bg):\n",
    "    img = plt.imread('./data/bg/' + img_file)\n",
    "    ax[i].imshow(img)\n",
    "    ax[i].set_title(img_file)\n",
    "    \n",
    "fig, ax = plt.subplots(nrows=1, ncols=3, figsize=(15, 5))\n",
    "fig.suptitle('No Background')\n",
    "for i, img_file in enumerate(no_bg):\n",
    "    img = plt.imread('./data/no_bg/img/' + img_file)\n",
    "    ax[i].imshow(img)\n",
    "    ax[i].set_title(img_file)\n",
    "    \n",
    "plt.show()"
   ]
  },
  {
   "attachments": {},
   "cell_type": "markdown",
   "metadata": {},
   "source": [
    "## Utilities\n",
    "---"
   ]
  },
  {
   "cell_type": "code",
   "execution_count": 5,
   "metadata": {},
   "outputs": [],
   "source": [
    "import matplotlib.pyplot as plt\n",
    "from image_util import I"
   ]
  },
  {
   "attachments": {},
   "cell_type": "markdown",
   "metadata": {},
   "source": [
    "## Edge Detection"
   ]
  },
  {
   "cell_type": "markdown",
   "metadata": {},
   "source": []
  }
 ],
 "metadata": {
  "kernelspec": {
   "display_name": "base",
   "language": "python",
   "name": "python3"
  },
  "language_info": {
   "codemirror_mode": {
    "name": "ipython",
    "version": 3
   },
   "file_extension": ".py",
   "mimetype": "text/x-python",
   "name": "python",
   "nbconvert_exporter": "python",
   "pygments_lexer": "ipython3",
   "version": "3.9.16"
  },
  "orig_nbformat": 4
 },
 "nbformat": 4,
 "nbformat_minor": 2
}
