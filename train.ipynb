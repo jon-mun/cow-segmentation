{
 "cells": [
  {
   "attachments": {},
   "cell_type": "markdown",
   "metadata": {},
   "source": [
    "# Train Linear Regressor\n",
    "---"
   ]
  },
  {
   "attachments": {},
   "cell_type": "markdown",
   "metadata": {},
   "source": [
    "## Import Libraries\n",
    "---"
   ]
  },
  {
   "cell_type": "code",
   "execution_count": 1,
   "metadata": {},
   "outputs": [],
   "source": [
    "import matplotlib.pyplot as plt\n",
    "from image_util import I\n",
    "from linear_regressor import LinearRegressor"
   ]
  },
  {
   "cell_type": "code",
   "execution_count": 3,
   "metadata": {},
   "outputs": [],
   "source": [
    "import numpy as np\n",
    "import matplotlib.pyplot as plt\n",
    "import math\n",
    "\n",
    "class I:\n",
    "    '''\n",
    "    Custom Image Class\n",
    "    '''\n",
    "    image=[[]]\n",
    "    \n",
    "    def __init__(self, image: list):\n",
    "        self.image = image\n",
    "        \n",
    "    @staticmethod\n",
    "    def from_np(image: np.ndarray) -> 'I':\n",
    "        # convert np array to list\n",
    "        image = image.tolist()\n",
    "        return I(image)\n",
    "    \n",
    "    @staticmethod\n",
    "    def read(img_path) -> list:\n",
    "        img = plt.imread(img_path)\n",
    "        img.tolist()\n",
    "        return img\n",
    "    \n",
    "    @staticmethod\n",
    "    def show(img: list, gray=False) -> None:\n",
    "        params = {}\n",
    "        if gray:\n",
    "            params['cmap'] = 'gray'\n",
    "        \n",
    "        plt.imshow(img, **params)\n",
    "        plt.show()\n",
    "    \n",
    "    def display(self) -> None:\n",
    "        plt.imshow(self.image)\n",
    "        plt.show()\n",
    "        \n",
    "    @staticmethod\n",
    "    def to_gray(img: list) -> list:\n",
    "        gray_img = []\n",
    "        for row in img:\n",
    "            gray_row = []\n",
    "            for px in row:\n",
    "                gray_px = int(I.rgb_to_gray_px(px[0], px[1], px[2]))\n",
    "                gray_row.append(gray_px)\n",
    "            gray_img.append(gray_row)\n",
    "        return gray_img\n",
    "    \n",
    "    def rgb_to_gray_px(r, g, b):\n",
    "        return (r + g + b) / 3\n",
    "        \n",
    "    @staticmethod\n",
    "    def flatten(img: list) -> list:\n",
    "        '''\n",
    "        flatten a 3D image to 2D\n",
    "        '''\n",
    "        flattened_img = []\n",
    "        for row in img:\n",
    "            for px in row:\n",
    "                flattened_img.append(px)\n",
    "        return flattened_img\n",
    "        \n",
    "    @staticmethod\n",
    "    def extract_channels(img:list) -> list:\n",
    "        '''\n",
    "        extract all channels from an image\n",
    "        '''\n",
    "        channels = []\n",
    "        for i in range(3):\n",
    "            channels.append(I.extract_channel(img, i))\n",
    "        return channels\n",
    "    \n",
    "    @staticmethod\n",
    "    def extract_channel(img: list, channel: int) -> list:\n",
    "        '''\n",
    "        extract a channel from an image\n",
    "        '''\n",
    "        extracted_img = []\n",
    "        for row in img:\n",
    "            extracted_row = []\n",
    "            for px in row:\n",
    "                extracted_px = px[channel]\n",
    "                extracted_row.append(extracted_px)\n",
    "            extracted_img.append(extracted_row)\n",
    "        return extracted_img\n",
    "        \n",
    "    @staticmethod\n",
    "    def bl_resize(original_img, new_h, new_w):\n",
    "        src_h, src_w, c = I.shape(original_img)\n",
    "        resized_img = []\n",
    "\n",
    "        # Calculate scaling factors\n",
    "        scale_h = float(src_h) / new_h\n",
    "        scale_w = float(src_w) / new_w\n",
    "\n",
    "        # Iterate over each pixel in the resized image\n",
    "        for y in range(new_h):\n",
    "            row = []\n",
    "            for x in range(new_w):\n",
    "                # Calculate the corresponding position in the original image\n",
    "                src_y = (y + 0.5) * scale_h - 0.5\n",
    "                src_x = (x + 0.5) * scale_w - 0.5\n",
    "\n",
    "                # Get the four surrounding pixels\n",
    "                src_y1 = int(math.floor(src_y))\n",
    "                src_x1 = int(math.floor(src_x))\n",
    "                src_y2 = min(src_y1 + 1, src_h - 1)\n",
    "                src_x2 = min(src_x1 + 1, src_w - 1)\n",
    "\n",
    "                # Calculate the weights for interpolation\n",
    "                w1 = (src_y2 - src_y) * (src_x2 - src_x)\n",
    "                w2 = (src_y2 - src_y) * (src_x - src_x1)\n",
    "                w3 = (src_y - src_y1) * (src_x2 - src_x)\n",
    "                w4 = (src_y - src_y1) * (src_x - src_x1)\n",
    "\n",
    "                # Perform bilinear interpolation for each color channel\n",
    "                interpolated_px = []\n",
    "                for ch in range(c):\n",
    "                    interpolated_ch = (\n",
    "                        original_img[src_y1][src_x1][ch] * w1 +\n",
    "                        original_img[src_y1][src_x2][ch] * w2 +\n",
    "                        original_img[src_y2][src_x1][ch] * w3 +\n",
    "                        original_img[src_y2][src_x2][ch] * w4\n",
    "                    )\n",
    "                    interpolated_px.append(interpolated_ch)\n",
    "                row.append(interpolated_px)\n",
    "            resized_img.append(row)\n",
    "\n",
    "        return resized_img\n",
    "    \n",
    "    @staticmethod\n",
    "    def rgb_to_hsv(rgb_img):\n",
    "        hsv_img = []\n",
    "        for row in rgb_img:\n",
    "            hsv_row = []\n",
    "            for px in row:\n",
    "                hsv_px = I.rgb_to_hsv_px(px[0], px[1], px[2])\n",
    "                hsv_row.append(list(hsv_px))\n",
    "            hsv_img.append(hsv_row)\n",
    "        return hsv_img\n",
    "\n",
    "    def rgb_to_hsv_px(r, g, b):\n",
    "        r, g, b = r/255.0, g/255.0, b/255.0\n",
    "        mx = max(r, g, b)\n",
    "        mn = min(r, g, b)\n",
    "        df = mx-mn\n",
    "        if mx == mn:\n",
    "            h = 0\n",
    "        elif mx == r:\n",
    "            h = (60 * ((g-b)/df) + 360) % 360\n",
    "        elif mx == g:\n",
    "            h = (60 * ((b-r)/df) + 120) % 360\n",
    "        elif mx == b:\n",
    "            h = (60 * ((r-g)/df) + 240) % 360\n",
    "        if mx == 0:\n",
    "            s = 0\n",
    "        else:\n",
    "            s = (df/mx)*100\n",
    "        v = mx*100\n",
    "        return h, s, v\n",
    "    \n",
    "    @staticmethod\n",
    "    def shape(img_list: list):\n",
    "        row = len(img_list)\n",
    "        col = len(img_list[0])\n",
    "        c = len(img_list[0][0])\n",
    "        return row, col, c\n",
    "    \n",
    "    @staticmethod\n",
    "    def multiply_img(k: float, img):\n",
    "        '''\n",
    "        multiply each pixel in an image by a constant\n",
    "        '''\n",
    "        new_img = []\n",
    "        \n",
    "        for row in img:\n",
    "            new_row = []\n",
    "            for px in row:\n",
    "                if type(px) == list:\n",
    "                    new_px = [k * channel for channel in px]\n",
    "                else:\n",
    "                    new_px = k * px\n",
    "                new_row.append(new_px)\n",
    "            new_img.append(new_row)\n",
    "            \n",
    "        return new_img"
   ]
  },
  {
   "attachments": {},
   "cell_type": "markdown",
   "metadata": {},
   "source": [
    "## Load data\n",
    "---"
   ]
  },
  {
   "cell_type": "code",
   "execution_count": 2,
   "metadata": {},
   "outputs": [
    {
     "name": "stdout",
     "output_type": "stream",
     "text": [
      "image:\t(578, 735, 3) (183, 276, 3) (690, 1023, 3)\n",
      "gt:\t(578, 735, 3) (183, 276, 3) (690, 1023, 3)\n"
     ]
    }
   ],
   "source": [
    "# read training images\n",
    "img1 = I.from_np(plt.imread('./data/no_bg/img/sapi1.jpg')).image\n",
    "img2 = I.from_np(plt.imread('./data/no_bg/img/sapi2.jpeg')).image\n",
    "img3 = I.from_np(plt.imread('./data/no_bg/img/sapi3.jpg')).image\n",
    "\n",
    "print('image:', end='\\t')\n",
    "print(I.shape(img1), I.shape(img2), I.shape(img3))\n",
    "\n",
    "# ground truth\n",
    "gt_1 = I.from_np(plt.imread('./data/no_bg/gt/sapi1.jpg')).image\n",
    "gt_2 = I.from_np(plt.imread('./data/no_bg/gt/sapi2.jpg')).image\n",
    "gt_3 = I.from_np(plt.imread('./data/no_bg/gt/sapi3.jpg')).image\n",
    "\n",
    "print('gt:', end='\\t')\n",
    "print(I.shape(gt_1), I.shape(gt_2), I.shape(gt_3))"
   ]
  },
  {
   "attachments": {},
   "cell_type": "markdown",
   "metadata": {},
   "source": [
    "### Extract Features\n",
    "---"
   ]
  },
  {
   "cell_type": "code",
   "execution_count": 3,
   "metadata": {},
   "outputs": [],
   "source": [
    "# split hsv\n",
    "hsv1 = I.rgb_to_hsv(img1)\n",
    "hsv2 = I.rgb_to_hsv(img2)\n",
    "hsv3 = I.rgb_to_hsv(img3)\n",
    "\n",
    "h1, s1, v1 = I.extract_channels(hsv1)\n",
    "h2, s2, v2 = I.extract_channels(hsv2)\n",
    "h3, s3, v3 = I.extract_channels(hsv3)"
   ]
  },
  {
   "cell_type": "code",
   "execution_count": 4,
   "metadata": {},
   "outputs": [],
   "source": [
    "flat_h1 = I.flatten(h1)\n",
    "flat_s1 = I.flatten(s1)\n",
    "flat_v1 = I.flatten(v1)\n",
    "\n",
    "flat_h2 = I.flatten(h2)\n",
    "flat_s2 = I.flatten(s2)\n",
    "flat_v2 = I.flatten(v2)\n",
    "\n",
    "flat_h3 = I.flatten(h3)\n",
    "flat_s3 = I.flatten(s3)\n",
    "flat_v3 = I.flatten(v3)"
   ]
  },
  {
   "cell_type": "code",
   "execution_count": 5,
   "metadata": {},
   "outputs": [
    {
     "name": "stdout",
     "output_type": "stream",
     "text": [
      "424830 50508 705870\n"
     ]
    }
   ],
   "source": [
    "print(len(flat_h1), len(flat_h2), len(flat_h3))"
   ]
  },
  {
   "attachments": {},
   "cell_type": "markdown",
   "metadata": {},
   "source": [
    "### Ground Truth\n",
    "---"
   ]
  },
  {
   "cell_type": "code",
   "execution_count": 6,
   "metadata": {},
   "outputs": [],
   "source": [
    "gt_1 = I.to_gray(gt_1)\n",
    "gt_2 = I.to_gray(gt_2)\n",
    "gt_3 = I.to_gray(gt_3)"
   ]
  },
  {
   "cell_type": "code",
   "execution_count": 29,
   "metadata": {},
   "outputs": [
    {
     "name": "stdout",
     "output_type": "stream",
     "text": [
      "424830 50508 705870\n"
     ]
    }
   ],
   "source": [
    "flat_gt_1 = I.flatten(gt_1)\n",
    "flat_gt_2 = I.flatten(gt_2)\n",
    "flat_gt_3 = I.flatten(gt_3)\n",
    "\n",
    "print(len(flat_gt_1), len(flat_gt_2), len(flat_gt_3))"
   ]
  },
  {
   "attachments": {},
   "cell_type": "markdown",
   "metadata": {},
   "source": [
    "## Concatenate Features\n",
    "---"
   ]
  },
  {
   "cell_type": "code",
   "execution_count": 30,
   "metadata": {},
   "outputs": [],
   "source": [
    "X = [[flat_h1[i], flat_s1[i], flat_v1[i]] for i in range(len(flat_h1))]\n",
    "X.extend([[flat_h2[i], flat_s2[i], flat_v2[i]] for i in range(len(flat_h2))])\n",
    "X.extend([[flat_h3[i], flat_s3[i], flat_v3[i]] for i in range(len(flat_h3))])\n",
    "\n",
    "y = flat_gt_1\n",
    "y.extend(flat_gt_2)\n",
    "y.extend(flat_gt_3)"
   ]
  },
  {
   "cell_type": "code",
   "execution_count": 9,
   "metadata": {},
   "outputs": [],
   "source": [
    "def normalize(lst, divisor):\n",
    "    result = []\n",
    "    for item in lst:\n",
    "        if isinstance(item, list):\n",
    "            # If the element is a list, recursively divide its elements\n",
    "            divided = normalize(item, divisor)\n",
    "            result.append(divided)\n",
    "        else:\n",
    "            # Divide the element by the divisor\n",
    "            divided = item / divisor\n",
    "            result.append(divided)\n",
    "    return result"
   ]
  },
  {
   "cell_type": "code",
   "execution_count": 31,
   "metadata": {},
   "outputs": [
    {
     "name": "stdout",
     "output_type": "stream",
     "text": [
      "1181208 1181208\n"
     ]
    }
   ],
   "source": [
    "print(len(X), len(y))"
   ]
  },
  {
   "cell_type": "code",
   "execution_count": 32,
   "metadata": {},
   "outputs": [
    {
     "data": {
      "text/plain": [
       "([359.41747572815535, 82.4, 49.01960784313725], 255)"
      ]
     },
     "execution_count": 32,
     "metadata": {},
     "output_type": "execute_result"
    }
   ],
   "source": [
    "max(X), max(y)"
   ]
  },
  {
   "attachments": {},
   "cell_type": "markdown",
   "metadata": {},
   "source": [
    "## Train\n",
    "---"
   ]
  },
  {
   "cell_type": "code",
   "execution_count": 33,
   "metadata": {},
   "outputs": [],
   "source": [
    "lr = LinearRegressor()"
   ]
  },
  {
   "cell_type": "code",
   "execution_count": null,
   "metadata": {},
   "outputs": [],
   "source": [
    "lr.fit(X=X, y=y, lr=0.00001, epochs=100, epsilon=0.1)"
   ]
  },
  {
   "attachments": {},
   "cell_type": "markdown",
   "metadata": {},
   "source": [
    "## Save Weights"
   ]
  },
  {
   "cell_type": "code",
   "execution_count": 43,
   "metadata": {},
   "outputs": [],
   "source": [
    "weights = lr.m"
   ]
  },
  {
   "cell_type": "code",
   "execution_count": 44,
   "metadata": {},
   "outputs": [
    {
     "name": "stdout",
     "output_type": "stream",
     "text": [
      "[1.0014034909853222, 0.4012880982187062, 2.410825890893325, 0.3153325441925572]\n"
     ]
    }
   ],
   "source": [
    "print(weights)"
   ]
  },
  {
   "cell_type": "code",
   "execution_count": 45,
   "metadata": {},
   "outputs": [
    {
     "name": "stderr",
     "output_type": "stream",
     "text": [
      "Epoch: 774 | Error: 4417.3992:  78%|███████▊  | 775/1000 [33:22<09:47,  2.61s/it]"
     ]
    },
    {
     "ename": "KeyboardInterrupt",
     "evalue": "",
     "output_type": "error",
     "traceback": [
      "\u001b[1;31m---------------------------------------------------------------------------\u001b[0m",
      "\u001b[1;31mKeyboardInterrupt\u001b[0m                         Traceback (most recent call last)",
      "Cell \u001b[1;32mIn[45], line 2\u001b[0m\n\u001b[0;32m      1\u001b[0m m \u001b[39m=\u001b[39m [\u001b[39m1.0014034909853222\u001b[39m, \u001b[39m0.4012880982187062\u001b[39m, \u001b[39m2.410825890893325\u001b[39m, \u001b[39m0.3153325441925572\u001b[39m]\n\u001b[1;32m----> 2\u001b[0m weights, hist \u001b[39m=\u001b[39m lr\u001b[39m.\u001b[39;49mfit(X\u001b[39m=\u001b[39;49mX, y\u001b[39m=\u001b[39;49my, lr\u001b[39m=\u001b[39;49m\u001b[39m0.00001\u001b[39;49m, epochs\u001b[39m=\u001b[39;49m\u001b[39m1000\u001b[39;49m, epsilon\u001b[39m=\u001b[39;49m\u001b[39m0.1\u001b[39;49m, m\u001b[39m=\u001b[39;49mm)\n",
      "File \u001b[1;32mc:\\Jonathan\\college\\metnum\\cow-segmentation\\linear_regressor.py:55\u001b[0m, in \u001b[0;36mLinearRegressor.fit\u001b[1;34m(self, X, y, lr, epochs, epsilon, m)\u001b[0m\n\u001b[0;32m     52\u001b[0m \u001b[39mfor\u001b[39;00m epoch \u001b[39min\u001b[39;00m \u001b[39mrange\u001b[39m(epochs):\n\u001b[0;32m     53\u001b[0m     \u001b[39m# Calculate error\u001b[39;00m\n\u001b[0;32m     54\u001b[0m     y_pred \u001b[39m=\u001b[39m [\u001b[39mself\u001b[39m\u001b[39m.\u001b[39mpredict(X[i]) \u001b[39mfor\u001b[39;00m i \u001b[39min\u001b[39;00m \u001b[39mrange\u001b[39m(n)]\n\u001b[1;32m---> 55\u001b[0m     e \u001b[39m=\u001b[39m LinearRegressor\u001b[39m.\u001b[39;49mloss(y_pred, y)\n\u001b[0;32m     57\u001b[0m     error_history\u001b[39m.\u001b[39mappend(e)\n\u001b[0;32m     58\u001b[0m     \u001b[39m# Calculate gradient\u001b[39;00m\n",
      "File \u001b[1;32mc:\\Jonathan\\college\\metnum\\cow-segmentation\\linear_regressor.py:96\u001b[0m, in \u001b[0;36mLinearRegressor.loss\u001b[1;34m(y_pred, y_true)\u001b[0m\n\u001b[0;32m     94\u001b[0m n \u001b[39m=\u001b[39m \u001b[39mlen\u001b[39m(y_pred)\n\u001b[0;32m     95\u001b[0m \u001b[39mfor\u001b[39;00m i \u001b[39min\u001b[39;00m \u001b[39mrange\u001b[39m(n):\n\u001b[1;32m---> 96\u001b[0m     e \u001b[39m+\u001b[39m\u001b[39m=\u001b[39m (y_pred[i] \u001b[39m-\u001b[39m y_true[i]) \u001b[39m*\u001b[39m\u001b[39m*\u001b[39m \u001b[39m2\u001b[39m\n\u001b[0;32m     97\u001b[0m \u001b[39mreturn\u001b[39;00m e \u001b[39m/\u001b[39m n\n",
      "\u001b[1;31mKeyboardInterrupt\u001b[0m: "
     ]
    }
   ],
   "source": [
    "m = [1.0014034909853222, 0.4012880982187062, 2.410825890893325, 0.3153325441925572]\n",
    "weights, hist = lr.fit(X=X, y=y, lr=0.00001, epochs=1000, epsilon=0.1, m=m)"
   ]
  },
  {
   "cell_type": "code",
   "execution_count": 28,
   "metadata": {},
   "outputs": [
    {
     "name": "stdout",
     "output_type": "stream",
     "text": [
      "[0.05172266638498727, 0.6905957269351093, 1.4427400198297236, 0.3877351725711323]\n"
     ]
    }
   ],
   "source": [
    "print(weights)"
   ]
  }
 ],
 "metadata": {
  "kernelspec": {
   "display_name": "base",
   "language": "python",
   "name": "python3"
  },
  "language_info": {
   "codemirror_mode": {
    "name": "ipython",
    "version": 3
   },
   "file_extension": ".py",
   "mimetype": "text/x-python",
   "name": "python",
   "nbconvert_exporter": "python",
   "pygments_lexer": "ipython3",
   "version": "3.9.16"
  },
  "orig_nbformat": 4
 },
 "nbformat": 4,
 "nbformat_minor": 2
}
