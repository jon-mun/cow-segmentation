{
 "cells": [
  {
   "cell_type": "code",
   "execution_count": null,
   "metadata": {},
   "outputs": [],
   "source": [
    "import matplotlib.pyplot as plt\n",
    "from image_util import I"
   ]
  },
  {
   "attachments": {},
   "cell_type": "markdown",
   "metadata": {},
   "source": [
    "## Filters\n",
    "---"
   ]
  },
  {
   "attachments": {},
   "cell_type": "markdown",
   "metadata": {},
   "source": [
    "\n",
    "forward difference: $ f'(x) = \\frac{f(x+h) - f(x)}{h}$\n",
    "\n",
    "backward difference: $ f'(x) = \\frac{f(x) - f(x-h)}{h}$\n",
    "\n",
    "central difference: $f'(x)=\\frac{f(x+h) - f(x-h)}{2h}$"
   ]
  },
  {
   "attachments": {},
   "cell_type": "markdown",
   "metadata": {},
   "source": [
    "### Padding"
   ]
  },
  {
   "cell_type": "code",
   "execution_count": null,
   "metadata": {},
   "outputs": [],
   "source": [
    "import copy\n",
    "\n",
    "def pad_image(image, padding_height, padding_width):\n",
    "    image = copy.deepcopy(image) # Avoid modifying the original image\n",
    "    padded_image = []\n",
    "    rows = len(image)\n",
    "    cols = len(image[0])\n",
    "    channels = len(image[0][0]) if type(image[0][0]) == list else 1 \n",
    "\n",
    "    # Adjust channels\n",
    "    zeros = [0] * channels\n",
    "    if (channels == 1):\n",
    "        zeros = 0\n",
    "\n",
    "    # Pad rows at the top and bottom\n",
    "    for i in range(padding_height):\n",
    "        padded_image.append([zeros] * cols)\n",
    "    for row in image:\n",
    "        padded_image.append(row)\n",
    "    for i in range(padding_height):\n",
    "        padded_image.append([zeros] * cols)\n",
    "\n",
    "    # Pad columns at the left and right\n",
    "    for i in range(len(padded_image)):\n",
    "        for j in range(padding_width):\n",
    "            padded_image[i].insert(0, zeros)\n",
    "        for j in range(padding_width):\n",
    "            padded_image[i].append(zeros)\n",
    "\n",
    "    return copy.deepcopy(padded_image)"
   ]
  },
  {
   "attachments": {},
   "cell_type": "markdown",
   "metadata": {},
   "source": [
    "### Convolution"
   ]
  },
  {
   "cell_type": "code",
   "execution_count": null,
   "metadata": {},
   "outputs": [],
   "source": [
    "import copy\n",
    "\n",
    "def convolution(image, kernel):\n",
    "    '''\n",
    "    Performs convolution between an image and a kernel\n",
    "    '''\n",
    "    image = copy.deepcopy(image) # Avoid modifying the original image\n",
    "    \n",
    "    padding_height = len(kernel) // 2\n",
    "    padding_width = len(kernel[0]) // 2\n",
    "    \n",
    "    # Pad the image\n",
    "    padded_image = pad_image(image, padding_height, padding_width)\n",
    "    \n",
    "    # Create an output matrix with the same dimensions as the input image\n",
    "    output = [[0] * len(image[0]) for i in range(len(image))]\n",
    "\n",
    "    # Perform convolution\n",
    "    image_height = len(image)\n",
    "    image_width = len(image[0])\n",
    "    kernel_height = len(kernel)\n",
    "    kernel_width = len(kernel[0])\n",
    "    \n",
    "    for i in range(image_height):\n",
    "        for j in range(image_width):\n",
    "            for k in range(kernel_height):\n",
    "                for l in range(kernel_width):\n",
    "                    # kernel multiplication\n",
    "                    if type(padded_image[i + k][j + l]) == list:\n",
    "                        result = [x * kernel[k][l] for x in padded_image[i + k][j + l]]\n",
    "                    else: # Assume it's a number\n",
    "                        result = padded_image[i + k][j + l] * kernel[k][l]\n",
    "                    output[i][j] = output[i][j] + int(result)\n",
    "    return output"
   ]
  },
  {
   "cell_type": "code",
   "execution_count": null,
   "metadata": {},
   "outputs": [],
   "source": [
    "img = I.from_np(plt.imread('data/no_bg/img/sapi1.jpg')).image\n",
    "gray = I.to_gray(img)\n",
    "conv = convolution(gray, kernel=[[-1, 0, 1], [-2, 0, 2], [-1, 0, 1]])\n",
    "I.show(conv, gray=True)"
   ]
  },
  {
   "attachments": {},
   "cell_type": "markdown",
   "metadata": {},
   "source": [
    "### Edge detection"
   ]
  },
  {
   "cell_type": "code",
   "execution_count": null,
   "metadata": {},
   "outputs": [],
   "source": [
    "from canny_operator import canny_edge_detector"
   ]
  },
  {
   "cell_type": "code",
   "execution_count": null,
   "metadata": {},
   "outputs": [],
   "source": [
    "def edge_detection(\n",
    "    img: list,\n",
    "    x_kernel: list = [[-1, 0, 1], \n",
    "                     [-2, 0, 2], \n",
    "                     [-1, 0, 1]],\n",
    "    y_kernel: list = [[-1, -2, -1],\n",
    "                      [0, 0, 0],\n",
    "                      [1, 2, 1]]\n",
    "    ) -> list:\n",
    "    '''\n",
    "    detect edges in an image\n",
    "    '''\n",
    "    # convert image to grayscale\n",
    "    if type(img[0][0]) != int and len(img[0][0]) == 3:\n",
    "        img = I.to_gray(img)\n",
    "    \n",
    "    # create edge image\n",
    "    edge = []\n",
    "       \n",
    "    # calculate the gradient in the x-direction and y-direction\n",
    "    Ix = convolution(img, x_kernel)\n",
    "    Iy = convolution(img, y_kernel)\n",
    "        \n",
    "    # loop through the image\n",
    "    for i in range(len(img)):\n",
    "        edge.append([])\n",
    "        for j in range(len(img[0])):\n",
    "            # remove edge pixels in image boundary\n",
    "            if i == 0 or i == len(img) - 1 or j == 0 or j == len(img[0]) - 1:\n",
    "                edge[i].append([0])\n",
    "                continue\n",
    "            # calculate the gradient magnitude\n",
    "            edge[i].append([int((Ix[i][j]**2 + Iy[i][j]**2)**0.5)])\n",
    "            \n",
    "    return edge"
   ]
  },
  {
   "cell_type": "code",
   "execution_count": null,
   "metadata": {},
   "outputs": [],
   "source": [
    "def edge_threshold(edge: list, threshold: int = 100) -> list:\n",
    "    '''\n",
    "    threshold the edge image\n",
    "    '''\n",
    "    # create a copy of the edge image\n",
    "    edge = copy.deepcopy(edge)\n",
    "    \n",
    "    # loop through the image\n",
    "    for i in range(len(edge)):\n",
    "        for j in range(len(edge[0])):\n",
    "            # threshold the pixel\n",
    "            if edge[i][j][0] > threshold:\n",
    "                edge[i][j] = 255\n",
    "            else:\n",
    "                edge[i][j] = 0\n",
    "                \n",
    "    return edge"
   ]
  },
  {
   "cell_type": "code",
   "execution_count": null,
   "metadata": {},
   "outputs": [],
   "source": [
    "img = I.from_np(plt.imread('data/no_bg/img/sapi1.jpg')).image\n",
    "edge = edge_detection(img)\n",
    "# set threshold\n",
    "edge = edge_threshold(edge, threshold=100)\n",
    "\n",
    "I.show(edge, gray=True)"
   ]
  },
  {
   "cell_type": "code",
   "execution_count": null,
   "metadata": {},
   "outputs": [],
   "source": [
    "bg = I.from_np(plt.imread('data/bg/sapix.jpeg')).image\n",
    "edge = edge_detection(bg)\n",
    "edge = edge_threshold(edge, threshold=100)\n",
    "I.show(edge, gray=True)"
   ]
  },
  {
   "attachments": {},
   "cell_type": "markdown",
   "metadata": {},
   "source": [
    "### Median Filter"
   ]
  },
  {
   "cell_type": "code",
   "execution_count": null,
   "metadata": {},
   "outputs": [],
   "source": [
    "def median_filter(gray_img, mask=3):\n",
    "    \"\"\"\n",
    "    :param gray_img: gray image\n",
    "    :param mask: mask size\n",
    "    :return: image with median filter\n",
    "    \"\"\"\n",
    "    # set image borders\n",
    "    bd = int(mask / 2)\n",
    "    \n",
    "    row = len(gray_img)\n",
    "    col = len(gray_img[0])\n",
    "    \n",
    "    # copy image size\n",
    "    median_img = [[0] * col for i in range(row)]\n",
    "    \n",
    "    for i in range(bd, row - bd):\n",
    "        for j in range(bd, col - bd):\n",
    "            # get mask according with mask\n",
    "            kernel = [[gray_img[i - bd + k][j - bd + l] for l in range(mask)] for k in range(mask)]\n",
    "            kernel = I.flatten(kernel)\n",
    "            sorted_list = sorted(kernel)\n",
    "            # calculate mask median\n",
    "            median = sorted_list[int(len(sorted_list) / 2)]\n",
    "            median_img[i][j] = median\n",
    "    return median_img"
   ]
  },
  {
   "cell_type": "code",
   "execution_count": null,
   "metadata": {},
   "outputs": [],
   "source": [
    "img = I.from_np(plt.imread('data/bg/sapix.jpeg')).image\n",
    "gray = I.to_gray(img)\n",
    "median = median_filter(gray, mask=5)\n",
    "I.show(median, gray=True)"
   ]
  },
  {
   "attachments": {},
   "cell_type": "markdown",
   "metadata": {},
   "source": [
    "### Gaussian Filter"
   ]
  },
  {
   "cell_type": "code",
   "execution_count": null,
   "metadata": {},
   "outputs": [],
   "source": [
    "import math\n",
    "\n",
    "def generate_gaussian_kernel(size, sigma):\n",
    "    kernel = [[0.0] * size for _ in range(size)]\n",
    "    center = size // 2\n",
    "    total = 0.0\n",
    "\n",
    "    for i in range(size):\n",
    "        for j in range(size):\n",
    "            x = i - center\n",
    "            y = j - center\n",
    "            exponent = -(x ** 2 + y ** 2) / (2 * sigma ** 2)\n",
    "            kernel[i][j] = math.exp(exponent)\n",
    "            total += kernel[i][j]\n",
    "\n",
    "    # Normalize the kernel\n",
    "    for i in range(size):\n",
    "        for j in range(size):\n",
    "            kernel[i][j] /= total\n",
    "            kernel[i][j] = round(kernel[i][j], 2)\n",
    "\n",
    "    return kernel"
   ]
  },
  {
   "cell_type": "code",
   "execution_count": null,
   "metadata": {},
   "outputs": [],
   "source": [
    "gaussian_kernel = generate_gaussian_kernel(5, 2)\n",
    "gaussian_kernel"
   ]
  },
  {
   "cell_type": "code",
   "execution_count": null,
   "metadata": {},
   "outputs": [],
   "source": [
    "blurred_img = convolution(gray, gaussian_kernel)"
   ]
  },
  {
   "cell_type": "code",
   "execution_count": null,
   "metadata": {},
   "outputs": [],
   "source": [
    "I.show(blurred_img, gray=True)"
   ]
  },
  {
   "cell_type": "code",
   "execution_count": null,
   "metadata": {},
   "outputs": [],
   "source": [
    "edge = edge_detection(blurred_img)\n",
    "edge = edge_threshold(edge, threshold=110)\n",
    "I.show(edge, gray=True)"
   ]
  },
  {
   "attachments": {},
   "cell_type": "markdown",
   "metadata": {},
   "source": [
    "### Find Connected Components"
   ]
  },
  {
   "cell_type": "code",
   "execution_count": 51,
   "metadata": {},
   "outputs": [],
   "source": [
    "import copy\n",
    "\n",
    "def connected_components(binary_image, min_size=100):\n",
    "    '''\n",
    "    Find and label connected components in a binary image\n",
    "    input: binary image (2D array)\n",
    "    output: labeled image (2D array), dictionary of component sizes, number of components\n",
    "    '''\n",
    "    binary_image = copy.deepcopy(binary_image) # Make sure we don't overwrite the original image\n",
    "    height, width = len(binary_image), len(binary_image[0])\n",
    "    label_matrix = [[0] * width for _ in range(height)]  # Initialize empty label matrix\n",
    "\n",
    "    label = 0  # Start label\n",
    "    label_dict = {}  # Keep track of which label corresponds to which connected component\n",
    "    component_sizes = {}  # Keep track of component sizes\n",
    "    \n",
    "    # First pass\n",
    "    for i in range(height):\n",
    "        for j in range(width):            \n",
    "            if binary_image[i][j] == 0: # background pixel\n",
    "                continue\n",
    "            \n",
    "            if i == 0 and j == 0: # first pixel\n",
    "                continue\n",
    "            try:\n",
    "                # check neighbors (8-connectivity)\n",
    "                neighbors = [binary_image[i][j-1], \n",
    "                            binary_image[i-1][j-1], \n",
    "                            binary_image[i-1][j],\n",
    "                            binary_image[i-1][j+1]]\n",
    "                \n",
    "                # check neighbors (4-connectivity)\n",
    "                # neighbors = [padded_image[i][j-1],\n",
    "                #              padded_image[i-1][j]]\n",
    "\n",
    "                if sum(neighbors) == 0: # no neighbors\n",
    "                    label += 1 # increment label\n",
    "                    label_dict[label] = [label] # create new label\n",
    "                    label_matrix[i][j] = label # assign label to pixel\n",
    "                else:\n",
    "                    matrix_neighbors = [label_matrix[i][j-1], \n",
    "                                    label_matrix[i-1][j-1], \n",
    "                                    label_matrix[i-1][j],\n",
    "                                    label_matrix[i-1][j+1]]\n",
    "                    try:\n",
    "                        min_label = min(num for num in matrix_neighbors if num > 0) # get min label from neighbors\n",
    "                    except:\n",
    "                        continue                    \n",
    "                    label_matrix[i][j] = min_label # assign min label to pixel\n",
    "                    label_dict[label_matrix[i][j]].append(min_label) # add label to label_dict\n",
    "            except IndexError:\n",
    "                continue\n",
    "    # Second pass\n",
    "    for i in range(height):\n",
    "        for j in range(width):\n",
    "            if label_matrix[i][j] == 0:\n",
    "                continue\n",
    "            \n",
    "            label_matrix[i][j] = min(label_dict[label_matrix[i][j]]) # assign min label to pixel\n",
    "            component_sizes[label_matrix[i][j]] = component_sizes.get(label_matrix[i][j], 0) + 1  # increment component size\n",
    "    \n",
    "    # Remove small components\n",
    "    for i in range(height):\n",
    "        for j in range(width):\n",
    "            label = label_matrix[i][j]\n",
    "            if label != 0 and component_sizes[label] < min_size:\n",
    "                label_matrix[i][j] = 0\n",
    "    \n",
    "    return label_matrix, component_sizes, label_dict"
   ]
  },
  {
   "cell_type": "code",
   "execution_count": null,
   "metadata": {},
   "outputs": [],
   "source": [
    "img = I.from_np(plt.imread('data/bg/sapix.jpeg')).image\n",
    "img = I.bl_resize(original_img=img, new_h=200, new_w=200)\n",
    "I.show(img)\n",
    "\n",
    "gray = I.to_gray(img)\n",
    "gaussian_kernel = generate_gaussian_kernel(3, 0.6)\n",
    "blurred_img = convolution(gray, gaussian_kernel)\n",
    "I.show(blurred_img, gray=True)\n",
    "\n",
    "# edge = edge_detection(blurred_img)\n",
    "# edge = edge_threshold(edge, threshold=100)\n",
    "edge = canny_edge_detector(img=img, low=0.65, high=0.7, hyst=False)\n",
    "I.show(edge, gray=True)"
   ]
  },
  {
   "cell_type": "code",
   "execution_count": null,
   "metadata": {},
   "outputs": [],
   "source": [
    "import copy\n",
    "\n",
    "def dilate(image, kernel, k):\n",
    "    '''\n",
    "    Performs dilation operation on a binary image using a kernel\n",
    "    input: binary image (2D array), kernel (2D array), number of iterations\n",
    "    output: dilated image (2D array)\n",
    "    '''\n",
    "    image = copy.deepcopy(image)  # Avoid modifying the original image\n",
    "    \n",
    "    height, width = len(image), len(image[0])\n",
    "    kernel_height, kernel_width = len(kernel), len(kernel[0])\n",
    "    padding_height = kernel_height // 2\n",
    "    padding_width = kernel_width // 2\n",
    "    \n",
    "    padded_image = pad_image(image, padding_height, padding_width)\n",
    "    \n",
    "    for _ in range(k):\n",
    "        for i in range(height):\n",
    "            for j in range(width):\n",
    "                if image[i][j] == 1:\n",
    "                    for k in range(kernel_height):\n",
    "                        for l in range(kernel_width):\n",
    "                            if kernel[k][l] == 1:\n",
    "                                padded_image[i + k][j + l] = 1\n",
    "                                \n",
    "        image = copy.deepcopy(padded_image)\n",
    "    \n",
    "    # Remove padding\n",
    "    for i in range(padding_height):\n",
    "        image.pop(0)\n",
    "        image.pop()\n",
    "    for row in image:\n",
    "        for i in range(padding_width):\n",
    "            row.pop(0)\n",
    "            row.pop()\n",
    "            \n",
    "    return image\n",
    "\n",
    "def erode(image, kernel):\n",
    "    '''\n",
    "    Performs erosion operation on a binary image using a kernel\n",
    "    '''\n",
    "    image = copy.deepcopy(image)  # Avoid modifying the original image\n",
    "    \n",
    "    height, width = len(image), len(image[0])\n",
    "    kernel_height, kernel_width = len(kernel), len(kernel[0])\n",
    "    padding_height = kernel_height // 2\n",
    "    padding_width = kernel_width // 2\n",
    "    \n",
    "    padded_image = pad_image(image, padding_height, padding_width)\n",
    "    \n",
    "    for i in range(height):\n",
    "        for j in range(width):\n",
    "            if image[i][j] == 1:\n",
    "                matched = True\n",
    "                for k in range(kernel_height):\n",
    "                    for l in range(kernel_width):\n",
    "                        if kernel[k][l] == 1 and padded_image[i + k][j + l] != 1:\n",
    "                            matched = False\n",
    "                            break\n",
    "                    if not matched:\n",
    "                        break\n",
    "                if matched:\n",
    "                    padded_image[i + padding_height][j + padding_width] = 1\n",
    "                else:\n",
    "                    padded_image[i + padding_height][j + padding_width] = 0\n",
    "                    \n",
    "    # Remove padding\n",
    "    for i in range(padding_height):\n",
    "        padded_image.pop(0)\n",
    "        padded_image.pop()\n",
    "    for row in padded_image:\n",
    "        for i in range(padding_width):\n",
    "            row.pop(0)\n",
    "            row.pop()\n",
    "            \n",
    "    return padded_image\n"
   ]
  },
  {
   "cell_type": "code",
   "execution_count": 54,
   "metadata": {},
   "outputs": [
    {
     "data": {
      "image/png": "[encoded data removed]",
      "text/plain": [
       "<Figure size 640x480 with 1 Axes>"
      ]
     },
     "metadata": {},
     "output_type": "display_data"
    }
   ],
   "source": [
    "# normalize edges to 0 and 1\n",
    "norm = [[0 if i == 0 else 1 for i in j] for j in edge]\n",
    "\n",
    "dilated = dilate(norm, kernel=[[0, 1, 0], [1, 1, 1], [0, 1, 0]], k=2)\n",
    "I.show(dilated, gray=True)\n",
    "\n",
    "label_matrix, component_sizes, label_dict = connected_components(binary_image=dilated, min_size=100)"
   ]
  },
  {
   "cell_type": "code",
   "execution_count": 55,
   "metadata": {},
   "outputs": [
    {
     "data": {
      "image/png": "[encoded data removed]",
      "text/plain": [
       "<Figure size 640x480 with 1 Axes>"
      ]
     },
     "metadata": {},
     "output_type": "display_data"
    }
   ],
   "source": [
    "import matplotlib.pyplot as plt\n",
    "import random\n",
    "import colorsys\n",
    "\n",
    "def plot_label_matrix(label_matrix):\n",
    "    height, width = len(label_matrix), len(label_matrix[0])\n",
    "    unique_labels = set(sum(label_matrix, [])) - {0}  # Get unique labels excluding background (label 0)\n",
    "    num_labels = len(unique_labels)\n",
    "    \n",
    "    # Generate random colors for each label\n",
    "    label_colors = {}\n",
    "    for label in unique_labels:\n",
    "        # random hue\n",
    "        hue = random.random()\n",
    "        hsv = (hue, 1, 1)\n",
    "        rgb = colorsys.hsv_to_rgb(*hsv)\n",
    "        label_colors[label] = rgb\n",
    "    \n",
    "    # Create an RGB image based on the label matrix\n",
    "    rgb_image = [[label_colors[label] if label in label_colors else (0, 0, 0) for label in row] for row in label_matrix]\n",
    "    \n",
    "    # Display the labeled image\n",
    "    plt.imshow(rgb_image)\n",
    "    plt.axis('off')\n",
    "    plt.show()\n",
    "\n",
    "plot_label_matrix(label_matrix=label_matrix)"
   ]
  },
  {
   "attachments": {},
   "cell_type": "markdown",
   "metadata": {},
   "source": [
    "## Implement\n",
    "---"
   ]
  },
  {
   "cell_type": "code",
   "execution_count": null,
   "metadata": {},
   "outputs": [],
   "source": []
  }
 ],
 "metadata": {
  "kernelspec": {
   "display_name": "base",
   "language": "python",
   "name": "python3"
  },
  "language_info": {
   "codemirror_mode": {
    "name": "ipython",
    "version": 3
   },
   "file_extension": ".py",
   "mimetype": "text/x-python",
   "name": "python",
   "nbconvert_exporter": "python",
   "pygments_lexer": "ipython3",
   "version": "3.9.16"
  },
  "orig_nbformat": 4
 },
 "nbformat": 4,
 "nbformat_minor": 2
}
